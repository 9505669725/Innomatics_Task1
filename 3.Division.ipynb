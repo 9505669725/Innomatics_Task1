{
 "cells": [
  {
   "cell_type": "markdown",
   "id": "68cb690a",
   "metadata": {},
   "source": [
    "The provided code stub reads two integers,  and , from STDIN.\n",
    "\n",
    "Add logic to print two lines. The first line should contain the result of integer division,  // . The second line should contain the result of float division,  / .\n",
    "\n",
    "No rounding or formatting is necessary?"
   ]
  },
  {
   "cell_type": "code",
   "execution_count": 3,
   "id": "a6dd7eb9",
   "metadata": {},
   "outputs": [
    {
     "name": "stdout",
     "output_type": "stream",
     "text": [
      "3\n",
      "4\n",
      "0\n",
      "0.75\n"
     ]
    }
   ],
   "source": [
    "a = int(input())\n",
    "b = int(input())\n",
    "\n",
    "print(a // b)\n",
    "print (float(a) / b)"
   ]
  },
  {
   "cell_type": "markdown",
   "id": "2841c450",
   "metadata": {},
   "source": []
  }
 ],
 "metadata": {
  "kernelspec": {
   "display_name": "Python 3 (ipykernel)",
   "language": "python",
   "name": "python3"
  },
  "language_info": {
   "codemirror_mode": {
    "name": "ipython",
    "version": 3
   },
   "file_extension": ".py",
   "mimetype": "text/x-python",
   "name": "python",
   "nbconvert_exporter": "python",
   "pygments_lexer": "ipython3",
   "version": "3.9.12"
  }
 },
 "nbformat": 4,
 "nbformat_minor": 5
}
